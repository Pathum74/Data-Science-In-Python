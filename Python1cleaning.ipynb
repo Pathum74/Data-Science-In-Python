{
 "cells": [
  {
   "cell_type": "code",
   "execution_count": 61,
   "id": "337e7cdf-0fdb-4455-b075-99acf76399c5",
   "metadata": {},
   "outputs": [],
   "source": [
    "import pandas as pd\n",
    "import seaborn as sb"
   ]
  },
  {
   "cell_type": "markdown",
   "id": "0ff147c1-c9d2-4833-888e-d1856578e7be",
   "metadata": {},
   "source": [
    "## Dictionary"
   ]
  },
  {
   "cell_type": "markdown",
   "id": "d2c80f4a-8b1e-4231-92e9-78b54625e160",
   "metadata": {},
   "source": [
    "##### use 'df_1=pd.DataFrame(data)' convert dictonary to pandas data frame"
   ]
  },
  {
   "cell_type": "code",
   "execution_count": 63,
   "id": "1b6383ce-5ece-4b18-abc0-ce499247e53b",
   "metadata": {},
   "outputs": [
    {
     "name": "stdout",
     "output_type": "stream",
     "text": [
      "{'Name': ['Alice', 'Bob', 'Charlie', 'David'], 'Age': ['25', '22', '27', '30'], 'Salary': [50000, '60000', None, '75000'], 'Joing_Date': ['2024-2-03', '2023-02-22', '2025-05-25', '2020-08-15']}\n"
     ]
    }
   ],
   "source": [
    "data={\n",
    "    \"Name\":['Alice','Bob','Charlie','David'],\n",
    "    \"Age\":[\"25\",\"22\",\"27\",\"30\"],#Sorted asc string\n",
    "    \"Salary\":[50000,\"60000\",None,\"75000\"],# Mixed types\n",
    "    \"Joing_Date\":[\"2024-2-03\",\"2023-02-22\",\"2025-05-25\",\"2020-08-15\"], #Stored string\n",
    "    }\n",
    "print(data)"
   ]
  },
  {
   "cell_type": "code",
   "execution_count": 65,
   "id": "be912d0a-0548-44de-89d7-754b3f057f20",
   "metadata": {},
   "outputs": [
    {
     "name": "stdout",
     "output_type": "stream",
     "text": [
      "      Name Age Salary  Joing_Date\n",
      "0    Alice  25  50000   2024-2-03\n",
      "1      Bob  22  60000  2023-02-22\n",
      "2  Charlie  27   None  2025-05-25\n",
      "3    David  30  75000  2020-08-15\n"
     ]
    }
   ],
   "source": [
    "df_1=pd.DataFrame(data)\n",
    "print(df_1)"
   ]
  },
  {
   "cell_type": "markdown",
   "id": "4977f404-7954-408a-87dc-d42b53df1686",
   "metadata": {},
   "source": [
    "##### Convert Age column in to integer"
   ]
  },
  {
   "cell_type": "code",
   "execution_count": 67,
   "id": "55810291-a865-49b3-84e2-40f34997ea34",
   "metadata": {},
   "outputs": [],
   "source": [
    "df_1['Age']=df_1['Age'].astype(int)"
   ]
  },
  {
   "cell_type": "markdown",
   "id": "fbce71b1-4b57-4d18-9010-8daf47f7ae48",
   "metadata": {},
   "source": [
    "##### Convert Salary to float"
   ]
  },
  {
   "cell_type": "code",
   "execution_count": 69,
   "id": "970cbe44-6b34-4b93-b8aa-ee5d9005d520",
   "metadata": {},
   "outputs": [],
   "source": [
    "df_1[\"Salary\"]=pd.to_numeric(df_1[\"Salary\"]) #Convert and handle error\n"
   ]
  },
  {
   "cell_type": "code",
   "execution_count": 71,
   "id": "885fc6bc-55b3-4eb1-8676-9ec16e2c3a52",
   "metadata": {},
   "outputs": [
    {
     "name": "stdout",
     "output_type": "stream",
     "text": [
      "Before Conversion:\n",
      " Name           object\n",
      "Age             int32\n",
      "Salary        float64\n",
      "Joing_Date     object\n",
      "dtype: object\n"
     ]
    }
   ],
   "source": [
    "print(\"Before Conversion:\\n\",df_1.dtypes)"
   ]
  },
  {
   "cell_type": "markdown",
   "id": "2897870d-2687-4ebf-b208-9094cb8917a4",
   "metadata": {},
   "source": [
    "##### Activity 1 Convert Age to data frame "
   ]
  },
  {
   "cell_type": "code",
   "execution_count": 73,
   "id": "a76c29c5-1d4d-4e2c-889a-58868cf5f1aa",
   "metadata": {},
   "outputs": [
    {
     "name": "stdout",
     "output_type": "stream",
     "text": [
      "     Name Age\n",
      "0    John  23\n",
      "1    Emma  27\n",
      "2    Liam  22\n",
      "3  Olivia  30\n"
     ]
    }
   ],
   "source": [
    "data={\n",
    "    \"Name\":[\"John\",\"Emma\",\"Liam\",\"Olivia\"],\n",
    "    \"Age\":[\"23\",\"27\",\"22\",\"30\"]\n",
    "}\n",
    "df_2=pd.DataFrame(data)\n",
    "print(df_2)"
   ]
  },
  {
   "cell_type": "code",
   "execution_count": 75,
   "id": "d3630cdd-f543-4a4d-94c1-76032e4bfb41",
   "metadata": {},
   "outputs": [
    {
     "name": "stdout",
     "output_type": "stream",
     "text": [
      "     Name  Age\n",
      "0    John   23\n",
      "1    Emma   27\n",
      "2    Liam   22\n",
      "3  Olivia   30\n"
     ]
    }
   ],
   "source": [
    "df_2[\"Age\"]=df_2[\"Age\"].astype(int) \n",
    "print(df_2)"
   ]
  },
  {
   "cell_type": "markdown",
   "id": "0e30cce9-0ad8-456f-a2c0-2dba8af062a8",
   "metadata": {},
   "source": [
    "#### 2.Handling missing values"
   ]
  },
  {
   "cell_type": "markdown",
   "id": "c1faad17-5722-4e40-8fb0-20287bec7b0b",
   "metadata": {},
   "source": [
    "##### You can remove, or asign mean, median, mode missing value. You can do below things for missing value\n",
    "##### drop missing value = dropna()\n",
    "##### filter missing value = isnull()\n",
    "#### 1. check missing value. if missing value >20% Drop missing values. if missing value <20% check whether the variable is categorical or numerical. \n",
    "#### if it is numerical asign mean, median if it is categorical asign mode. "
   ]
  },
  {
   "cell_type": "code",
   "execution_count": 77,
   "id": "742528b9-9bf8-44e4-bf73-16f5266790e3",
   "metadata": {},
   "outputs": [
    {
     "name": "stdout",
     "output_type": "stream",
     "text": [
      "      Name  Age   Salary  Joing_Date\n",
      "0    Alice   25  50000.0   2024-2-03\n",
      "1      Bob   22  60000.0  2023-02-22\n",
      "2  Charlie   27      NaN  2025-05-25\n",
      "3    David   30  75000.0  2020-08-15\n"
     ]
    }
   ],
   "source": [
    "print(df_1)"
   ]
  },
  {
   "cell_type": "code",
   "execution_count": 79,
   "id": "f002252e-71dd-4b39-aa42-78d7f9a0acfb",
   "metadata": {},
   "outputs": [
    {
     "name": "stdout",
     "output_type": "stream",
     "text": [
      "1\n"
     ]
    }
   ],
   "source": [
    "df2=df_1['Salary'].isnull().sum() # sum of null values\n",
    "print(df2)"
   ]
  },
  {
   "cell_type": "code",
   "execution_count": 23,
   "id": "4978647b-ae43-45b4-997c-f9d137e30e36",
   "metadata": {},
   "outputs": [
    {
     "name": "stderr",
     "output_type": "stream",
     "text": [
      "C:\\Users\\MSI\\AppData\\Local\\Temp\\ipykernel_12256\\3560529404.py:1: FutureWarning: A value is trying to be set on a copy of a DataFrame or Series through chained assignment using an inplace method.\n",
      "The behavior will change in pandas 3.0. This inplace method will never work because the intermediate object on which we are setting values always behaves as a copy.\n",
      "\n",
      "For example, when doing 'df[col].method(value, inplace=True)', try using 'df.method({col: value}, inplace=True)' or df[col] = df[col].method(value) instead, to perform the operation inplace on the original object.\n",
      "\n",
      "\n",
      "  df_1[\"Salary\"].fillna(df_1[\"Salary\"].mean(),inplace=True) #Fill missing valuesa\n"
     ]
    }
   ],
   "source": [
    "df_1[\"Salary\"].fillna(df_1[\"Salary\"].mean(),inplace=True) #Fill missing valuesa"
   ]
  },
  {
   "cell_type": "code",
   "execution_count": 81,
   "id": "d5c3eb52-e875-41d7-b595-816398faad63",
   "metadata": {},
   "outputs": [
    {
     "name": "stdout",
     "output_type": "stream",
     "text": [
      "      Name  Age        Salary  Joing_Date\n",
      "0    Alice   25  50000.000000   2024-2-03\n",
      "1      Bob   22  60000.000000  2023-02-22\n",
      "2  Charlie   27  61666.666667  2025-05-25\n",
      "3    David   30  75000.000000  2020-08-15\n"
     ]
    }
   ],
   "source": [
    "df_1[\"Salary\"]=df_1[\"Salary\"].fillna(df_1[\"Salary\"].mean()) #Fill missing value using mean\n",
    "print(df_1)"
   ]
  },
  {
   "cell_type": "code",
   "execution_count": 33,
   "id": "cf220de4-acff-465f-9fef-c712cdd111d4",
   "metadata": {},
   "outputs": [
    {
     "name": "stdout",
     "output_type": "stream",
     "text": [
      "0   2024-02-03\n",
      "1   2023-02-22\n",
      "2   2025-05-25\n",
      "3   2020-08-15\n",
      "Name: Joing_Date, dtype: datetime64[ns]\n"
     ]
    }
   ],
   "source": [
    "df_1['Joing_Date']=pd.to_datetime(df_1['Joing_Date'])\n",
    "print(df_1['Joing_Date'])"
   ]
  },
  {
   "cell_type": "code",
   "execution_count": 37,
   "id": "3e49972c-5977-4a4a-8965-ee551f645271",
   "metadata": {},
   "outputs": [
    {
     "name": "stdout",
     "output_type": "stream",
     "text": [
      "Index(['Name', 'Age', 'Salary', 'Joing_Date'], dtype='object')\n"
     ]
    }
   ],
   "source": [
    "print(df_1.columns)"
   ]
  },
  {
   "cell_type": "code",
   "execution_count": 83,
   "id": "95b781cc-2b90-46b9-98c1-aa270250f29b",
   "metadata": {},
   "outputs": [
    {
     "name": "stdout",
     "output_type": "stream",
     "text": [
      "Index(['Name', 'Age', 'Salary', 'Joing_Date'], dtype='object')\n"
     ]
    }
   ],
   "source": [
    "df_1.columns = df_1.columns.str.strip()  # Removes spaces around column names\n",
    "print(df_1.columns)"
   ]
  },
  {
   "cell_type": "code",
   "execution_count": 43,
   "id": "4e495565-13ba-4e7d-a097-c77d5fc677d5",
   "metadata": {},
   "outputs": [
    {
     "name": "stdout",
     "output_type": "stream",
     "text": [
      "['Joing_Date']\n"
     ]
    }
   ],
   "source": [
    "import difflib\n",
    "col_name = difflib.get_close_matches(\"Joining_Date\", df_1.columns, n=1)\n",
    "print(col_name)\n"
   ]
  },
  {
   "cell_type": "code",
   "execution_count": 87,
   "id": "b319958e-74ce-46ca-9f27-93545b6e6e16",
   "metadata": {},
   "outputs": [
    {
     "name": "stdout",
     "output_type": "stream",
     "text": [
      "0   NaT\n",
      "1   NaT\n",
      "2   NaT\n",
      "3   NaT\n",
      "Name: Joining_Date, dtype: datetime64[ns]\n"
     ]
    }
   ],
   "source": [
    "df_1['Joining_Date'] = pd.to_datetime(df_1.get('Joining_Date', pd.NaT))\n",
    "print(df_1['Joining_Date'])"
   ]
  },
  {
   "cell_type": "code",
   "execution_count": 89,
   "id": "b1a20f96-68b0-4444-b645-d519422ee2af",
   "metadata": {},
   "outputs": [
    {
     "name": "stdout",
     "output_type": "stream",
     "text": [
      "      Name  Age        Salary  Joing_Date Joining_Date\n",
      "0    Alice   25  50000.000000   2024-2-03          NaT\n",
      "1      Bob   22  60000.000000  2023-02-22          NaT\n",
      "2  Charlie   27  61666.666667  2025-05-25          NaT\n",
      "3    David   30  75000.000000  2020-08-15          NaT\n"
     ]
    }
   ],
   "source": [
    "print(df_1)"
   ]
  }
 ],
 "metadata": {
  "kernelspec": {
   "display_name": "Python 3 (ipykernel)",
   "language": "python",
   "name": "python3"
  },
  "language_info": {
   "codemirror_mode": {
    "name": "ipython",
    "version": 3
   },
   "file_extension": ".py",
   "mimetype": "text/x-python",
   "name": "python",
   "nbconvert_exporter": "python",
   "pygments_lexer": "ipython3",
   "version": "3.12.4"
  }
 },
 "nbformat": 4,
 "nbformat_minor": 5
}
