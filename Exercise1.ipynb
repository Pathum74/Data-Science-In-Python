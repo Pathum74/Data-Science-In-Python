{
 "cells": [
  {
   "cell_type": "markdown",
   "id": "bc4f47f1-2232-43c5-8f05-166c3718ae2c",
   "metadata": {},
   "source": [
    "## Exercise 1"
   ]
  },
  {
   "cell_type": "markdown",
   "id": "81aaaa70-06f0-4a81-becc-5602ecf889dd",
   "metadata": {},
   "source": [
    "#### Question 1: Display first 5 rows of the dataset\n"
   ]
  },
  {
   "cell_type": "code",
   "execution_count": 1,
   "id": "7c11b52d-903b-4cea-9c9b-ad7852805924",
   "metadata": {},
   "outputs": [
    {
     "name": "stdout",
     "output_type": "stream",
     "text": [
      "   PassengerId  Survived  Pclass  \\\n",
      "0          892         0       3   \n",
      "1          893         1       3   \n",
      "2          894         0       2   \n",
      "3          895         0       3   \n",
      "4          896         1       3   \n",
      "\n",
      "                                           Name     Sex   Age  SibSp  Parch  \\\n",
      "0                              Kelly, Mr. James    male  34.5      0      0   \n",
      "1              Wilkes, Mrs. James (Ellen Needs)  female  47.0      1      0   \n",
      "2                     Myles, Mr. Thomas Francis    male  62.0      0      0   \n",
      "3                              Wirz, Mr. Albert    male  27.0      0      0   \n",
      "4  Hirvonen, Mrs. Alexander (Helga E Lindqvist)  female  22.0      1      1   \n",
      "\n",
      "    Ticket     Fare Cabin Embarked  \n",
      "0   330911   7.8292   NaN        Q  \n",
      "1   363272   7.0000   NaN        S  \n",
      "2   240276   9.6875   NaN        Q  \n",
      "3   315154   8.6625   NaN        S  \n",
      "4  3101298  12.2875   NaN        S  \n"
     ]
    }
   ],
   "source": [
    "import pandas as pd\n",
    "data=pd.read_csv('Titanic Dataset-Lec 05 (1).csv')\n",
    "print(data.head())"
   ]
  },
  {
   "cell_type": "markdown",
   "id": "6b61800f-142b-448c-b84f-275313cd24d3",
   "metadata": {},
   "source": [
    "#### Question 2: Check for missing values in each column and display the total count\n"
   ]
  },
  {
   "cell_type": "code",
   "execution_count": 3,
   "id": "0ea7be16-2ff6-4510-9683-c1c269a88763",
   "metadata": {},
   "outputs": [
    {
     "name": "stdout",
     "output_type": "stream",
     "text": [
      "Count of missing values:\n",
      "PassengerId      0\n",
      "Survived         0\n",
      "Pclass           0\n",
      "Name             0\n",
      "Sex              0\n",
      "Age             86\n",
      "SibSp            0\n",
      "Parch            0\n",
      "Ticket           0\n",
      "Fare             1\n",
      "Cabin          327\n",
      "Embarked         0\n",
      "dtype: int64\n"
     ]
    }
   ],
   "source": [
    "mv=data.isnull().sum()\n",
    "print(f'Count of missing values:\\n{mv}')"
   ]
  },
  {
   "cell_type": "markdown",
   "id": "fffba425-eeee-4f72-9578-209f3eea00f2",
   "metadata": {},
   "source": [
    "#### Question 3: Fill missing values in the \"Age\" column with the median age\n"
   ]
  },
  {
   "cell_type": "code",
   "execution_count": 5,
   "id": "ae473795-1492-40df-ad95-5f283c7e898a",
   "metadata": {},
   "outputs": [
    {
     "name": "stdout",
     "output_type": "stream",
     "text": [
      "Count of missing values in column Age :\n",
      "0\n"
     ]
    }
   ],
   "source": [
    "data['Age']=data['Age'].fillna(data['Age'].mean())\n",
    "ma=data['Age'].isnull().sum()\n",
    "print(f'Count of missing values in column Age :\\n{ma}')\n"
   ]
  },
  {
   "cell_type": "markdown",
   "id": "e20730b2-647c-4eab-affd-d7df38556b1b",
   "metadata": {},
   "source": [
    "#### Question 4: Fill missing values in the \"Embarked\" column with the most frequent value\n"
   ]
  },
  {
   "cell_type": "code",
   "execution_count": 11,
   "id": "675a3068-4bb3-4cdd-b068-709287ccd021",
   "metadata": {},
   "outputs": [
    {
     "name": "stdout",
     "output_type": "stream",
     "text": [
      "0\n"
     ]
    }
   ],
   "source": [
    "mv=data['Embarked'].isnull().sum()\n",
    "print(mv)"
   ]
  },
  {
   "cell_type": "code",
   "execution_count": 19,
   "id": "afd80ad4-e6ca-4fb9-93e3-6640aaa4e49a",
   "metadata": {},
   "outputs": [
    {
     "name": "stdout",
     "output_type": "stream",
     "text": [
      "There is no missing value in \"Embarked\" column.\n"
     ]
    }
   ],
   "source": [
    "if not data['Embarked'].isnull().sum():\n",
    "    print('There is no missing value in \"Embarked\" column.')\n",
    "else:\n",
    "    data['Embarked'].fillna(data['Embarked'].mode()[0],inplace=True)"
   ]
  },
  {
   "cell_type": "markdown",
   "id": "56fdfa9a-4bb2-446c-bd6f-809bf218a5ec",
   "metadata": {},
   "source": [
    "#### Question 5: Convert the \"Fare\" column to integer data type\n"
   ]
  },
  {
   "cell_type": "code",
   "execution_count": 25,
   "id": "15ab0c54-cdf3-4b74-aee3-3f4890ca29cc",
   "metadata": {},
   "outputs": [
    {
     "name": "stdout",
     "output_type": "stream",
     "text": [
      "int32\n"
     ]
    }
   ],
   "source": [
    "print(data['Fare'].dtype) # Display current data type"
   ]
  },
  {
   "cell_type": "code",
   "execution_count": 27,
   "id": "89d9d36f-9233-4bb7-acf3-cc4ff0c9ba8c",
   "metadata": {},
   "outputs": [
    {
     "name": "stdout",
     "output_type": "stream",
     "text": [
      "Now int:  0        7\n",
      "1        7\n",
      "2        9\n",
      "3        8\n",
      "4       12\n",
      "      ... \n",
      "413      8\n",
      "414    108\n",
      "415      7\n",
      "416      8\n",
      "417     22\n",
      "Name: Fare, Length: 417, dtype: int32\n"
     ]
    }
   ],
   "source": [
    "import numpy as np\n",
    "\n",
    "# drop NaN values\n",
    "data=data.dropna(subset='Fare')\n",
    "\n",
    "if not data['Fare'].dtype == np.int64:\n",
    "    data['Fare'] = data['Fare'].astype(int)\n",
    "    print('Now int: ', data['Fare'])\n",
    "else:\n",
    "    print('Int')"
   ]
  },
  {
   "cell_type": "markdown",
   "id": "c379f8c5-a684-4f63-8e7f-311d259e43f6",
   "metadata": {},
   "source": [
    "#### Question 6: Convert the \"Sex\" column into categorical format using label encoding (Male=1, Female=0)\n"
   ]
  },
  {
   "cell_type": "code",
   "execution_count": 47,
   "id": "6b34b3d1-5fb9-46ae-a30d-a8c54f19441b",
   "metadata": {},
   "outputs": [
    {
     "name": "stdout",
     "output_type": "stream",
     "text": [
      "0        male\n",
      "1      female\n",
      "2        male\n",
      "3        male\n",
      "4      female\n",
      "        ...  \n",
      "413      male\n",
      "414    female\n",
      "415      male\n",
      "416      male\n",
      "417      male\n",
      "Name: Sex, Length: 417, dtype: object\n"
     ]
    }
   ],
   "source": [
    "print(data['Sex'])"
   ]
  },
  {
   "cell_type": "code",
   "execution_count": 29,
   "id": "bd51be3d-0846-4171-bfaf-06ba35e1dbf5",
   "metadata": {},
   "outputs": [
    {
     "name": "stdout",
     "output_type": "stream",
     "text": [
      "0      1\n",
      "1      0\n",
      "2      1\n",
      "3      1\n",
      "4      0\n",
      "      ..\n",
      "413    1\n",
      "414    0\n",
      "415    1\n",
      "416    1\n",
      "417    1\n",
      "Name: Sex, Length: 417, dtype: int64\n"
     ]
    }
   ],
   "source": [
    "data['Sex']=data['Sex'].map({'male':1,'female':0})\n",
    "print(data['Sex'])"
   ]
  },
  {
   "cell_type": "markdown",
   "id": "fa4dd98e-ac5d-4fc5-b828-4a1f1fed0b13",
   "metadata": {},
   "source": [
    "#### Question 7: Identify and display all duplicate rows in the dataset\n"
   ]
  },
  {
   "cell_type": "code",
   "execution_count": 31,
   "id": "0fafc2f6-fda1-458a-ad76-98c46478ace0",
   "metadata": {},
   "outputs": [
    {
     "name": "stdout",
     "output_type": "stream",
     "text": [
      "Empty DataFrame\n",
      "Columns: [PassengerId, Survived, Pclass, Name, Sex, Age, SibSp, Parch, Ticket, Fare, Cabin, Embarked]\n",
      "Index: []\n"
     ]
    }
   ],
   "source": [
    "dup=data[data.duplicated()]\n",
    "print(dup)"
   ]
  },
  {
   "cell_type": "markdown",
   "id": "e6fdfa70-14b8-481a-a450-50954bf9d6ec",
   "metadata": {},
   "source": [
    "#### Question 8: Remove all duplicate rows from the dataset\n"
   ]
  },
  {
   "cell_type": "code",
   "execution_count": 33,
   "id": "8af89d4f-70ec-4c65-90a0-2879772bc7cf",
   "metadata": {},
   "outputs": [],
   "source": [
    "dupp=data.drop_duplicates()"
   ]
  },
  {
   "cell_type": "markdown",
   "id": "ba58bc6b-c7d5-4450-ba9c-7ccb77b56783",
   "metadata": {},
   "source": [
    "#### Question 9: Drop rows where all column values are missing\n"
   ]
  },
  {
   "cell_type": "code",
   "execution_count": 35,
   "id": "37134755-f2f8-44d4-8d7d-9d4668cf3572",
   "metadata": {},
   "outputs": [],
   "source": [
    "data=data.dropna(how='all')"
   ]
  },
  {
   "cell_type": "markdown",
   "id": "bc6e2132-059d-43ca-a3c6-9ee6c1544e7a",
   "metadata": {},
   "source": [
    "#### Question 10: Drop columns with at least one missing value\n"
   ]
  },
  {
   "cell_type": "code",
   "execution_count": 37,
   "id": "30cee91a-1e59-49e7-8032-442c01185d0c",
   "metadata": {},
   "outputs": [],
   "source": [
    "data=data.dropna(axis=1)"
   ]
  },
  {
   "cell_type": "code",
   "execution_count": 39,
   "id": "5f50dab1-5184-4418-9d9b-f3c01ac4cbd5",
   "metadata": {},
   "outputs": [
    {
     "name": "stdout",
     "output_type": "stream",
     "text": [
      "   PassengerId  Survived  Pclass  \\\n",
      "0          892         0       3   \n",
      "1          893         1       3   \n",
      "2          894         0       2   \n",
      "3          895         0       3   \n",
      "4          896         1       3   \n",
      "\n",
      "                                           Name  Sex   Age  SibSp  Parch  \\\n",
      "0                              Kelly, Mr. James    1  34.5      0      0   \n",
      "1              Wilkes, Mrs. James (Ellen Needs)    0  47.0      1      0   \n",
      "2                     Myles, Mr. Thomas Francis    1  62.0      0      0   \n",
      "3                              Wirz, Mr. Albert    1  27.0      0      0   \n",
      "4  Hirvonen, Mrs. Alexander (Helga E Lindqvist)    0  22.0      1      1   \n",
      "\n",
      "    Ticket  Fare Embarked  \n",
      "0   330911     7        Q  \n",
      "1   363272     7        S  \n",
      "2   240276     9        Q  \n",
      "3   315154     8        S  \n",
      "4  3101298    12        S  \n"
     ]
    }
   ],
   "source": [
    "print(data.head())"
   ]
  }
 ],
 "metadata": {
  "kernelspec": {
   "display_name": "Python 3 (ipykernel)",
   "language": "python",
   "name": "python3"
  },
  "language_info": {
   "codemirror_mode": {
    "name": "ipython",
    "version": 3
   },
   "file_extension": ".py",
   "mimetype": "text/x-python",
   "name": "python",
   "nbconvert_exporter": "python",
   "pygments_lexer": "ipython3",
   "version": "3.12.4"
  }
 },
 "nbformat": 4,
 "nbformat_minor": 5
}
